{
 "cells": [
  {
   "metadata": {
    "ExecuteTime": {
     "end_time": "2024-11-22T16:04:43.751810Z",
     "start_time": "2024-11-22T16:04:40.723063Z"
    }
   },
   "cell_type": "code",
   "source": [
    "import numpy as np\n",
    "import pandas as pd\n",
    "\n",
    "from sfkinetics import PopData\n",
    "\n",
    "ar = np.genfromtxt('../data/A/combined_traces/10uM_idl.csv', delimiter=',')"
   ],
   "id": "31eacecda093d460",
   "outputs": [],
   "execution_count": 1
  },
  {
   "metadata": {
    "ExecuteTime": {
     "end_time": "2024-11-22T16:04:57.059996Z",
     "start_time": "2024-11-22T16:04:56.993609Z"
    }
   },
   "cell_type": "code",
   "source": [
    "d = PopData(ar)            \n",
    "d"
   ],
   "id": "a8439d0e99caa5a0",
   "outputs": [
    {
     "data": {
      "text/plain": [
       "FRET state population based on 1,884 traces\n",
       "       time  state_occupancy\n",
       "0       0.0         0.947030\n",
       "1       0.1         0.939329\n",
       "2       0.2         0.937799\n",
       "3       0.3         0.939362\n",
       "4       0.4         0.940426\n",
       "...     ...              ...\n",
       "1224  122.4         0.925926\n",
       "1225  122.5         0.925926\n",
       "1226  122.6         0.925926\n",
       "1227  122.7         0.925926\n",
       "1228  122.8         0.925926\n",
       "\n",
       "[1229 rows x 2 columns]"
      ]
     },
     "execution_count": 3,
     "metadata": {},
     "output_type": "execute_result"
    }
   ],
   "execution_count": 3
  },
  {
   "metadata": {},
   "cell_type": "code",
   "outputs": [],
   "execution_count": null,
   "source": "",
   "id": "9543d41bc18e885d"
  }
 ],
 "metadata": {
  "kernelspec": {
   "display_name": "Python 3",
   "language": "python",
   "name": "python3"
  },
  "language_info": {
   "codemirror_mode": {
    "name": "ipython",
    "version": 2
   },
   "file_extension": ".py",
   "mimetype": "text/x-python",
   "name": "python",
   "nbconvert_exporter": "python",
   "pygments_lexer": "ipython2",
   "version": "2.7.6"
  }
 },
 "nbformat": 4,
 "nbformat_minor": 5
}
