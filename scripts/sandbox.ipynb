{
 "cells": [
  {
   "metadata": {
    "ExecuteTime": {
     "end_time": "2024-11-22T14:39:15.783676Z",
     "start_time": "2024-11-22T14:39:15.685496Z"
    }
   },
   "cell_type": "code",
   "source": "import numpy as np",
   "id": "31eacecda093d460",
   "outputs": [],
   "execution_count": 1
  },
  {
   "cell_type": "code",
   "id": "80b4ebf3a7680754",
   "metadata": {},
   "source": [
    "desired_state = 3\n",
    "\n",
    "ar = np.genfromtxt('../data/A/combined_traces/10uM_idl.csv', delimiter=',')"
   ],
   "outputs": [],
   "execution_count": null
  },
  {
   "metadata": {
    "collapsed": true,
    "ExecuteTime": {
     "end_time": "2024-11-22T14:39:47.507756Z",
     "start_time": "2024-11-22T14:39:45.454918Z"
    }
   },
   "cell_type": "code",
   "outputs": [
    {
     "name": "stderr",
     "output_type": "stream",
     "text": [
      "C:\\Users\\rkiselev\\AppData\\Local\\Temp\\ipykernel_29204\\2906279062.py:14: RuntimeWarning: invalid value encountered in divide\n",
      "  pop = ar_b.sum(axis=0) / ar_N.sum(axis=0)\n"
     ]
    }
   ],
   "execution_count": 2,
   "source": [
    "# Normalization array\n",
    "ar_N = ar.copy()\n",
    "ar_N[np.where(ar == 1)] = 0  # photobleached or not idealized\n",
    "ar_N[np.where(ar >= 2)] = 1  # one of FRET states\n",
    "\n",
    "# Basal state array\n",
    "ar_b = ar.copy()\n",
    "ar_b[np.where(ar != desired_state)] = 0\n",
    "ar_b[np.where(ar == desired_state)] = 1\n",
    "\n",
    "pop = ar_b.sum(axis=0) / ar_N.sum(axis=0)"
   ],
   "id": "initial_id"
  }
 ],
 "metadata": {
  "kernelspec": {
   "display_name": "Python 3",
   "language": "python",
   "name": "python3"
  },
  "language_info": {
   "codemirror_mode": {
    "name": "ipython",
    "version": 2
   },
   "file_extension": ".py",
   "mimetype": "text/x-python",
   "name": "python",
   "nbconvert_exporter": "python",
   "pygments_lexer": "ipython2",
   "version": "2.7.6"
  }
 },
 "nbformat": 4,
 "nbformat_minor": 5
}
